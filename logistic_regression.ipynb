{
  "nbformat": 4,
  "nbformat_minor": 0,
  "metadata": {
    "colab": {
      "provenance": [],
      "gpuType": "T4",
      "include_colab_link": true
    },
    "kernelspec": {
      "name": "python3",
      "display_name": "Python 3"
    },
    "accelerator": "GPU"
  },
  "cells": [
    {
      "cell_type": "markdown",
      "metadata": {
        "id": "view-in-github",
        "colab_type": "text"
      },
      "source": [
        "<a href=\"https://colab.research.google.com/github/abhishekDey11209/ML-projects/blob/main/logistic_regression.ipynb\" target=\"_parent\"><img src=\"https://colab.research.google.com/assets/colab-badge.svg\" alt=\"Open In Colab\"/></a>"
      ]
    },
    {
      "cell_type": "markdown",
      "metadata": {
        "id": "0MRC0e0KhQ0S"
      },
      "source": [
        "# Logistic Regression"
      ]
    },
    {
      "cell_type": "markdown",
      "metadata": {
        "id": "LWd1UlMnhT2s"
      },
      "source": [
        "## Importing the libraries"
      ]
    },
    {
      "cell_type": "code",
      "source": [
        "import numpy as np\n",
        "import pandas as pd\n",
        "import matplotlib.pyplot as plt"
      ],
      "metadata": {
        "id": "MwSb2bXMYhzE"
      },
      "execution_count": null,
      "outputs": []
    },
    {
      "cell_type": "markdown",
      "metadata": {
        "id": "K1VMqkGvhc3-"
      },
      "source": [
        "## Importing the dataset"
      ]
    },
    {
      "cell_type": "code",
      "source": [
        "df = pd.read_csv('Social_Network_Ads.csv')\n",
        "X= df.iloc[:,:-1].values\n",
        "y= df.iloc[:,-1].values"
      ],
      "metadata": {
        "id": "1wqVEG9qZGBz"
      },
      "execution_count": null,
      "outputs": []
    },
    {
      "cell_type": "markdown",
      "source": [],
      "metadata": {
        "id": "kn8An_GdZhj_"
      }
    },
    {
      "cell_type": "markdown",
      "metadata": {
        "id": "YvxIPVyMhmKp"
      },
      "source": [
        "## Splitting the dataset into the Training set and Test set"
      ]
    },
    {
      "cell_type": "code",
      "source": [
        "from sklearn.model_selection import train_test_split\n",
        "X_train,X_test, y_train, y_test = train_test_split(X, y, test_size= 0.2, random_state= 0)"
      ],
      "metadata": {
        "id": "K3zKiVc2ZrQy"
      },
      "execution_count": null,
      "outputs": []
    },
    {
      "cell_type": "markdown",
      "metadata": {
        "id": "kW3c7UYih0hT"
      },
      "source": [
        "## Feature Scaling"
      ]
    },
    {
      "cell_type": "code",
      "source": [
        "from sklearn.preprocessing import StandardScaler\n",
        "sc = StandardScaler()\n",
        "X_train= sc.fit_transform(X_train)\n",
        "X_test = sc.transform(X_test)"
      ],
      "metadata": {
        "id": "2jKBWBzFaRUP"
      },
      "execution_count": null,
      "outputs": []
    },
    {
      "cell_type": "code",
      "source": [
        "print(X_test)"
      ],
      "metadata": {
        "colab": {
          "base_uri": "https://localhost:8080/"
        },
        "id": "CU_BUv2jfqZp",
        "outputId": "91470806-9586-4170-8c26-7da7a0795ca3"
      },
      "execution_count": null,
      "outputs": [
        {
          "output_type": "stream",
          "name": "stdout",
          "text": [
            "[[-7.98950822e-01  4.94607583e-01]\n",
            " [-2.12648508e-02 -5.77359062e-01]\n",
            " [-3.12897090e-01  1.46942725e-01]\n",
            " [-7.98950822e-01  2.62831011e-01]\n",
            " [-3.12897090e-01 -5.77359062e-01]\n",
            " [-1.09058306e+00 -1.44652121e+00]\n",
            " [-7.01740076e-01 -1.59138156e+00]\n",
            " [-2.15686344e-01  2.14601566e+00]\n",
            " [-1.96547978e+00 -5.58617754e-02]\n",
            " [ 8.53631867e-01 -7.80163563e-01]\n",
            " [-7.98950822e-01 -6.06331134e-01]\n",
            " [-9.93372315e-01 -4.32498705e-01]\n",
            " [-1.18475597e-01 -4.32498705e-01]\n",
            " [ 7.59458956e-02  2.04886868e-01]\n",
            " [-1.77105829e+00  4.65635512e-01]\n",
            " [-6.04529329e-01  1.36376973e+00]\n",
            " [-1.18475597e-01  2.04886868e-01]\n",
            " [-1.86826903e+00  4.36663440e-01]\n",
            " [ 1.63131784e+00  1.74040666e+00]\n",
            " [-3.12897090e-01 -1.38857706e+00]\n",
            " [-3.12897090e-01 -6.64275277e-01]\n",
            " [ 8.53631867e-01  2.14601566e+00]\n",
            " [ 2.70367388e-01 -5.48386991e-01]\n",
            " [ 8.53631867e-01  1.01610487e+00]\n",
            " [-1.47942605e+00 -1.21474464e+00]\n",
            " [ 1.04805336e+00  2.05909944e+00]\n",
            " [-9.93372315e-01  4.94607583e-01]\n",
            " [-8.96161568e-01  2.91803083e-01]\n",
            " [-1.18475597e-01 -2.29694204e-01]\n",
            " [-6.04529329e-01  4.65635512e-01]\n",
            " [-1.67384754e+00  5.23579655e-01]\n",
            " [-1.18475597e-01  2.62831011e-01]\n",
            " [ 1.82573933e+00 -2.87638347e-01]\n",
            " [-1.18475597e-01 -4.90442848e-01]\n",
            " [-1.38221530e+00 -3.45582490e-01]\n",
            " [-1.96547978e+00 -5.19414919e-01]\n",
            " [-1.57663679e+00  3.20775154e-01]\n",
            " [-4.10107836e-01 -7.80163563e-01]\n",
            " [-7.01740076e-01 -1.04091221e+00]\n",
            " [ 1.04805336e+00 -9.82968063e-01]\n",
            " [-1.09058306e+00  5.23579655e-01]\n",
            " [ 2.70367388e-01 -5.19414919e-01]\n",
            " [-1.09058306e+00  4.07691369e-01]\n",
            " [-3.12897090e-01 -1.44652121e+00]\n",
            " [ 4.64788881e-01  1.21890937e+00]\n",
            " [-1.09058306e+00 -3.45582490e-01]\n",
            " [-1.18475597e-01  2.91803083e-01]\n",
            " [ 1.33968560e+00  5.81523798e-01]\n",
            " [-1.18779381e+00 -1.15680049e+00]\n",
            " [ 1.04805336e+00  4.65635512e-01]\n",
            " [ 1.82573933e+00  1.50863009e+00]\n",
            " [-4.10107836e-01 -1.30166085e+00]\n",
            " [-3.12897090e-01 -3.74554562e-01]\n",
            " [-4.10107836e-01  1.30582558e+00]\n",
            " [ 2.02016082e+00  5.23579655e-01]\n",
            " [ 6.59210374e-01 -1.09885635e+00]\n",
            " [-8.96161568e-01  3.78719297e-01]\n",
            " [-1.18779381e+00  2.91803083e-01]\n",
            " [ 1.04805336e+00 -1.21474464e+00]\n",
            " [-1.47942605e+00 -1.44652121e+00]\n",
            " [-6.04529329e-01 -1.50446535e+00]\n",
            " [ 2.11737157e+00 -8.09135634e-01]\n",
            " [-1.86826903e+00  1.75914797e-01]\n",
            " [-2.15686344e-01  8.42272441e-01]\n",
            " [-1.86826903e+00 -1.27268878e+00]\n",
            " [ 2.11737157e+00  3.78719297e-01]\n",
            " [-1.38221530e+00  5.52551726e-01]\n",
            " [-1.09058306e+00 -3.45582490e-01]\n",
            " [ 1.73156642e-01 -6.64275277e-01]\n",
            " [ 3.67578135e-01  2.08236764e-03]\n",
            " [-6.04529329e-01  2.31984809e+00]\n",
            " [-3.12897090e-01  2.04886868e-01]\n",
            " [-1.57663679e+00 -2.00722133e-01]\n",
            " [ 6.59210374e-01 -1.38857706e+00]\n",
            " [-1.09058306e+00  5.52551726e-01]\n",
            " [-1.96547978e+00  3.49747226e-01]\n",
            " [ 3.67578135e-01  2.62831011e-01]\n",
            " [ 1.73156642e-01 -2.87638347e-01]\n",
            " [ 1.43689635e+00 -1.04091221e+00]\n",
            " [ 8.53631867e-01  1.07404901e+00]]\n"
          ]
        }
      ]
    },
    {
      "cell_type": "markdown",
      "metadata": {
        "id": "bb6jCOCQiAmP"
      },
      "source": [
        "## Training the Logistic Regression model on the Training set"
      ]
    },
    {
      "cell_type": "code",
      "source": [
        "from sklearn.linear_model import LogisticRegression\n",
        "lr = LogisticRegression(random_state= 0 )\n",
        "lr.fit(X_train, y_train)"
      ],
      "metadata": {
        "colab": {
          "base_uri": "https://localhost:8080/",
          "height": 75
        },
        "id": "js4xwYZ0bu9a",
        "outputId": "58d2d554-c338-4477-eea4-297a47853125"
      },
      "execution_count": null,
      "outputs": [
        {
          "output_type": "execute_result",
          "data": {
            "text/plain": [
              "LogisticRegression(random_state=0)"
            ],
            "text/html": [
              "<style>#sk-container-id-1 {color: black;background-color: white;}#sk-container-id-1 pre{padding: 0;}#sk-container-id-1 div.sk-toggleable {background-color: white;}#sk-container-id-1 label.sk-toggleable__label {cursor: pointer;display: block;width: 100%;margin-bottom: 0;padding: 0.3em;box-sizing: border-box;text-align: center;}#sk-container-id-1 label.sk-toggleable__label-arrow:before {content: \"▸\";float: left;margin-right: 0.25em;color: #696969;}#sk-container-id-1 label.sk-toggleable__label-arrow:hover:before {color: black;}#sk-container-id-1 div.sk-estimator:hover label.sk-toggleable__label-arrow:before {color: black;}#sk-container-id-1 div.sk-toggleable__content {max-height: 0;max-width: 0;overflow: hidden;text-align: left;background-color: #f0f8ff;}#sk-container-id-1 div.sk-toggleable__content pre {margin: 0.2em;color: black;border-radius: 0.25em;background-color: #f0f8ff;}#sk-container-id-1 input.sk-toggleable__control:checked~div.sk-toggleable__content {max-height: 200px;max-width: 100%;overflow: auto;}#sk-container-id-1 input.sk-toggleable__control:checked~label.sk-toggleable__label-arrow:before {content: \"▾\";}#sk-container-id-1 div.sk-estimator input.sk-toggleable__control:checked~label.sk-toggleable__label {background-color: #d4ebff;}#sk-container-id-1 div.sk-label input.sk-toggleable__control:checked~label.sk-toggleable__label {background-color: #d4ebff;}#sk-container-id-1 input.sk-hidden--visually {border: 0;clip: rect(1px 1px 1px 1px);clip: rect(1px, 1px, 1px, 1px);height: 1px;margin: -1px;overflow: hidden;padding: 0;position: absolute;width: 1px;}#sk-container-id-1 div.sk-estimator {font-family: monospace;background-color: #f0f8ff;border: 1px dotted black;border-radius: 0.25em;box-sizing: border-box;margin-bottom: 0.5em;}#sk-container-id-1 div.sk-estimator:hover {background-color: #d4ebff;}#sk-container-id-1 div.sk-parallel-item::after {content: \"\";width: 100%;border-bottom: 1px solid gray;flex-grow: 1;}#sk-container-id-1 div.sk-label:hover label.sk-toggleable__label {background-color: #d4ebff;}#sk-container-id-1 div.sk-serial::before {content: \"\";position: absolute;border-left: 1px solid gray;box-sizing: border-box;top: 0;bottom: 0;left: 50%;z-index: 0;}#sk-container-id-1 div.sk-serial {display: flex;flex-direction: column;align-items: center;background-color: white;padding-right: 0.2em;padding-left: 0.2em;position: relative;}#sk-container-id-1 div.sk-item {position: relative;z-index: 1;}#sk-container-id-1 div.sk-parallel {display: flex;align-items: stretch;justify-content: center;background-color: white;position: relative;}#sk-container-id-1 div.sk-item::before, #sk-container-id-1 div.sk-parallel-item::before {content: \"\";position: absolute;border-left: 1px solid gray;box-sizing: border-box;top: 0;bottom: 0;left: 50%;z-index: -1;}#sk-container-id-1 div.sk-parallel-item {display: flex;flex-direction: column;z-index: 1;position: relative;background-color: white;}#sk-container-id-1 div.sk-parallel-item:first-child::after {align-self: flex-end;width: 50%;}#sk-container-id-1 div.sk-parallel-item:last-child::after {align-self: flex-start;width: 50%;}#sk-container-id-1 div.sk-parallel-item:only-child::after {width: 0;}#sk-container-id-1 div.sk-dashed-wrapped {border: 1px dashed gray;margin: 0 0.4em 0.5em 0.4em;box-sizing: border-box;padding-bottom: 0.4em;background-color: white;}#sk-container-id-1 div.sk-label label {font-family: monospace;font-weight: bold;display: inline-block;line-height: 1.2em;}#sk-container-id-1 div.sk-label-container {text-align: center;}#sk-container-id-1 div.sk-container {/* jupyter's `normalize.less` sets `[hidden] { display: none; }` but bootstrap.min.css set `[hidden] { display: none !important; }` so we also need the `!important` here to be able to override the default hidden behavior on the sphinx rendered scikit-learn.org. See: https://github.com/scikit-learn/scikit-learn/issues/21755 */display: inline-block !important;position: relative;}#sk-container-id-1 div.sk-text-repr-fallback {display: none;}</style><div id=\"sk-container-id-1\" class=\"sk-top-container\"><div class=\"sk-text-repr-fallback\"><pre>LogisticRegression(random_state=0)</pre><b>In a Jupyter environment, please rerun this cell to show the HTML representation or trust the notebook. <br />On GitHub, the HTML representation is unable to render, please try loading this page with nbviewer.org.</b></div><div class=\"sk-container\" hidden><div class=\"sk-item\"><div class=\"sk-estimator sk-toggleable\"><input class=\"sk-toggleable__control sk-hidden--visually\" id=\"sk-estimator-id-1\" type=\"checkbox\" checked><label for=\"sk-estimator-id-1\" class=\"sk-toggleable__label sk-toggleable__label-arrow\">LogisticRegression</label><div class=\"sk-toggleable__content\"><pre>LogisticRegression(random_state=0)</pre></div></div></div></div></div>"
            ]
          },
          "metadata": {},
          "execution_count": 6
        }
      ]
    },
    {
      "cell_type": "markdown",
      "metadata": {
        "id": "yyxW5b395mR2"
      },
      "source": [
        "## Predicting a new result"
      ]
    },
    {
      "cell_type": "code",
      "source": [
        "lr.predict(sc.transform([[30,87000]]))"
      ],
      "metadata": {
        "colab": {
          "base_uri": "https://localhost:8080/"
        },
        "id": "bja9t4ymcoKi",
        "outputId": "3349a57c-328c-4908-86e7-c2ab4c1bada7"
      },
      "execution_count": null,
      "outputs": [
        {
          "output_type": "execute_result",
          "data": {
            "text/plain": [
              "array([0])"
            ]
          },
          "metadata": {},
          "execution_count": 7
        }
      ]
    },
    {
      "cell_type": "markdown",
      "metadata": {
        "id": "vKYVQH-l5NpE"
      },
      "source": [
        "## Predicting the Test set results"
      ]
    },
    {
      "cell_type": "code",
      "source": [
        "y_pred = lr.predict(X_test)\n",
        "print(np.column_stack((y_pred, y_test)))\n"
      ],
      "metadata": {
        "colab": {
          "base_uri": "https://localhost:8080/"
        },
        "id": "pJypxi2Ud0A_",
        "outputId": "29e56c32-8bce-489c-ce30-7661ea01a686"
      },
      "execution_count": null,
      "outputs": [
        {
          "output_type": "stream",
          "name": "stdout",
          "text": [
            "[[0 0]\n",
            " [0 0]\n",
            " [0 0]\n",
            " [0 0]\n",
            " [0 0]\n",
            " [0 0]\n",
            " [0 0]\n",
            " [1 1]\n",
            " [0 0]\n",
            " [0 0]\n",
            " [0 0]\n",
            " [0 0]\n",
            " [0 0]\n",
            " [0 0]\n",
            " [0 0]\n",
            " [0 0]\n",
            " [0 0]\n",
            " [0 0]\n",
            " [1 1]\n",
            " [0 0]\n",
            " [0 0]\n",
            " [1 1]\n",
            " [0 0]\n",
            " [1 1]\n",
            " [0 0]\n",
            " [1 1]\n",
            " [0 0]\n",
            " [0 0]\n",
            " [0 0]\n",
            " [0 0]\n",
            " [0 0]\n",
            " [0 1]\n",
            " [1 1]\n",
            " [0 0]\n",
            " [0 0]\n",
            " [0 0]\n",
            " [0 0]\n",
            " [0 0]\n",
            " [0 0]\n",
            " [1 1]\n",
            " [0 0]\n",
            " [0 0]\n",
            " [0 0]\n",
            " [0 0]\n",
            " [1 1]\n",
            " [0 0]\n",
            " [0 0]\n",
            " [1 1]\n",
            " [0 0]\n",
            " [1 1]\n",
            " [1 1]\n",
            " [0 0]\n",
            " [0 0]\n",
            " [0 0]\n",
            " [1 1]\n",
            " [0 1]\n",
            " [0 0]\n",
            " [0 0]\n",
            " [0 1]\n",
            " [0 0]\n",
            " [0 0]\n",
            " [1 1]\n",
            " [0 0]\n",
            " [0 1]\n",
            " [0 0]\n",
            " [1 1]\n",
            " [0 0]\n",
            " [0 0]\n",
            " [0 0]\n",
            " [0 0]\n",
            " [1 1]\n",
            " [0 0]\n",
            " [0 0]\n",
            " [0 1]\n",
            " [0 0]\n",
            " [0 0]\n",
            " [1 0]\n",
            " [0 0]\n",
            " [1 1]\n",
            " [1 1]]\n"
          ]
        }
      ]
    },
    {
      "cell_type": "markdown",
      "metadata": {
        "id": "h4Hwj34ziWQW"
      },
      "source": [
        "## Making the Confusion Matrix"
      ]
    },
    {
      "cell_type": "code",
      "source": [
        "from sklearn.metrics import confusion_matrix, accuracy_score\n",
        "\n",
        "# Calculate the confusion matrix\n",
        "conf_matrix = confusion_matrix(y_test, y_pred)\n",
        "print(\"Confusion Matrix:\")\n",
        "print(conf_matrix)\n",
        "\n",
        "# Calculate the accuracy\n",
        "accuracy = accuracy_score(y_test, y_pred)\n",
        "print(f\"Accuracy: {accuracy}\")\n"
      ],
      "metadata": {
        "colab": {
          "base_uri": "https://localhost:8080/"
        },
        "id": "kpI3tmYViA-K",
        "outputId": "421279f4-aed9-4155-ec43-b9f1e63777df"
      },
      "execution_count": null,
      "outputs": [
        {
          "output_type": "stream",
          "name": "stdout",
          "text": [
            "Confusion Matrix:\n",
            "[[57  1]\n",
            " [ 5 17]]\n",
            "Accuracy: 0.925\n"
          ]
        }
      ]
    }
  ]
}